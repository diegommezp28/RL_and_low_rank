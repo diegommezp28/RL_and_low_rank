{
 "cells": [
  {
   "cell_type": "code",
   "execution_count": 1,
   "metadata": {},
   "outputs": [
    {
     "name": "stderr",
     "output_type": "stream",
     "text": [
      "100%|██████████| 10/10 [00:00<00:00, 5000.96it/s]\n"
     ]
    }
   ],
   "source": [
    "from pickle import load\n",
    "import os\n",
    "import torch\n",
    "from utils import SimplexEnvironment\n",
    "\n",
    "MDP = load(open(os.path.join(\"data\", \"mdps\", \"small\" ,\"small_mdp.bin\"), 'rb'))\n",
    "t = torch.from_numpy(MDP.get_transitions()).to(torch.float32)"
   ]
  },
  {
   "cell_type": "code",
   "execution_count": 2,
   "metadata": {},
   "outputs": [
    {
     "name": "stdout",
     "output_type": "stream",
     "text": [
      "100 10 3\n"
     ]
    }
   ],
   "source": [
    "print( MDP.S, MDP.A, MDP.d)"
   ]
  },
  {
   "cell_type": "markdown",
   "metadata": {},
   "source": [
    "We will use a Neural Network To approximate the embedding functions of our MDP."
   ]
  },
  {
   "cell_type": "code",
   "execution_count": 3,
   "metadata": {},
   "outputs": [],
   "source": [
    "import torch.nn as nn\n",
    "import torch.nn.functional as F\n",
    "import torch"
   ]
  },
  {
   "cell_type": "code",
   "execution_count": 4,
   "metadata": {},
   "outputs": [
    {
     "name": "stdout",
     "output_type": "stream",
     "text": [
      "cuda:0\n"
     ]
    }
   ],
   "source": [
    "\n",
    "device = torch.device('cuda:0' if torch.cuda.is_available() else 'cpu')\n",
    "print(device)"
   ]
  },
  {
   "cell_type": "code",
   "execution_count": 5,
   "metadata": {},
   "outputs": [],
   "source": [
    "class Net(nn.Module): \n",
    "    def __init__(self, states, actions, d):\n",
    "        super(Net, self).__init__()\n",
    "        self.states = states\n",
    "        self.actions = actions\n",
    "        self.d = d\n",
    "        self.device = 'cpu'\n",
    "    \n",
    "        self.l1 = nn.Linear(self.states + self.actions, 240)  #First Linear layers, Receives concat onehot enconding of state-action pair\n",
    "        self.l2 = nn.Linear(240, 80)\n",
    "        # self.bn1 = nn.BatchNorm1d(num_features=1)\n",
    "        self.embedding = nn.Linear(80, self.d)\n",
    "        init_params = torch.full((self.d, self.states), 1/self.states) + torch.rand((self.d, self.states))\n",
    "        self.mu_weights = nn.Parameter(init_params)\n",
    "    \n",
    "    def to(self, device):\n",
    "        self.device = device\n",
    "        super(Net, self).to(device)\n",
    "\n",
    "    def _init_weights(self, module):\n",
    "        if isinstance(module, nn.Linear):\n",
    "            module.weight.data.normal_(mean=0.0, std=1.0)\n",
    "            if module.padding_idx is not None:\n",
    "                module.weight.data[module.padding_idx].zero_()\n",
    "\n",
    "\n",
    "    def encode_input(self, s, a):\n",
    "         \"\"\"\n",
    "        # Parameters:\n",
    "        s: State id or list like of state ids between 0 and self.states\n",
    "        a: Action id or list like of actions ids between 0 and self.actions\n",
    "\n",
    "        If s and a are list-like, both need to be the same lenght\n",
    "         \"\"\"\n",
    "         input_len = len(s) if hasattr(s, '__len__') else 1\n",
    "         actions_len = len(a) if hasattr(a, '__len__') else 1\n",
    "         assert input_len == actions_len, f\"The input lenghts do not coincide. Input States: {input_len}; Input Actions: {actions_len}\"\n",
    "\n",
    "         s_hot = F.one_hot(s.view(input_len, 1), self.states).to(torch.float32)\n",
    "         a_hot = F.one_hot(a.view(input_len, 1), self.actions).to(torch.float32)\n",
    "         x = torch.cat((s_hot, a_hot), dim=-1)# Concat one hot vectors \n",
    "         return x.to(self.device)\n",
    "\n",
    "    def enconde_output(self, s):\n",
    "        input_len = len(s) if hasattr(s, '__len__') else 1\n",
    "        return F.one_hot(s.view(input_len, 1), self.states).to(torch.float32)\n",
    "\n",
    "\n",
    "    def phi(self, s, a):\n",
    "        \"\"\"\n",
    "        # Parameters:\n",
    "        s: State id or list like of state ids between 0 and self.states\n",
    "        a: Action id or list like of actions ids between 0 and self.actions\n",
    "\n",
    "        If s and a are list-like, both need to be the same lenght\n",
    "         \"\"\"\n",
    "        \n",
    "        x = self.encode_input(s, a) \n",
    "        x = F.relu(self.l1(x))\n",
    "        x = F.relu(self.l2(x))\n",
    "        # x = self.bn1(x)\n",
    "        x = F.softmax(self.embedding(x), dim=-1) # Apply softmax row wise\n",
    "\n",
    "        return x # This should be of shape (batch_size, 1, d)\n",
    "\n",
    "    def mu(self):\n",
    "        return F.softmax(self.mu_weights, dim=-1)\n",
    "\n",
    "    def forward(self, s, a):\n",
    "        \"\"\"\n",
    "        # Parameters:\n",
    "        s: State id or list like of state ids between 0 and self.states\n",
    "        a: Action id or list like of actions ids between 0 and self.actions\n",
    "\n",
    "        If s and a are list-like, both need to be the same lenght\n",
    "        \"\"\"\n",
    "        x = self.phi(s, a)\n",
    "        soft_mu = self.mu()\n",
    "\n",
    "        # We use bradcasting in here so the same parameters are used for every element of the batch\n",
    "        x = torch.matmul(x, soft_mu) # Mat multiplication of (batch_size, 1, d) @ (d, states) --> (batch_size, 1, states) # Distribution over states\n",
    "\n",
    "        return x.view(-1, self.states)\n",
    "\n",
    "    def phi_a_matrix(self, a):\n",
    "        \"\"\"Calculates the transition kernes induces by phi when one action a is fixed.\n",
    "        # Parameters:\n",
    "        a: Action id between 0 and self.actions - 1\n",
    "         \"\"\"\n",
    "        actions_list = a.repeat(self.states)\n",
    "        state_list = torch.arange(0, (self.states), dtype=int)\n",
    "\n",
    "        with torch.no_grad():\n",
    "            phi_a_batch = self.phi(state_list, actions_list).view(self.states, self.d) # This should be of shape (states, d)\n",
    "\n",
    "            return torch.matmul(phi_a_batch, self.mu()) # Should be size (states, states)\n",
    "\n",
    "\n",
    "net = Net(MDP.S, MDP.A, MDP.d)"
   ]
  },
  {
   "cell_type": "code",
   "execution_count": 6,
   "metadata": {},
   "outputs": [
    {
     "data": {
      "text/plain": [
       "<bound method Module.parameters of Net(\n",
       "  (l1): Linear(in_features=110, out_features=240, bias=True)\n",
       "  (l2): Linear(in_features=240, out_features=80, bias=True)\n",
       "  (embedding): Linear(in_features=80, out_features=3, bias=True)\n",
       ")>"
      ]
     },
     "execution_count": 6,
     "metadata": {},
     "output_type": "execute_result"
    }
   ],
   "source": [
    "net.parameters"
   ]
  },
  {
   "cell_type": "code",
   "execution_count": 7,
   "metadata": {},
   "outputs": [],
   "source": [
    "# net.phi_a_matrix(torch.tensor(1)).size()"
   ]
  },
  {
   "cell_type": "code",
   "execution_count": 8,
   "metadata": {},
   "outputs": [],
   "source": [
    "# torch.isclose(torch.ones((net.states)), torch.sum(net.phi_a_matrix(torch.tensor(1)), dim=-1), 0.001)"
   ]
  },
  {
   "cell_type": "code",
   "execution_count": 9,
   "metadata": {},
   "outputs": [
    {
     "name": "stdout",
     "output_type": "stream",
     "text": [
      "0.7\n"
     ]
    }
   ],
   "source": [
    "from pickle import load\n",
    "\n",
    "train_path = load(open(os.path.join(\"data\", \"mdps\", \"small\" ,\"small_mdp_path_train.bin\"), 'rb'))\n",
    "test_path = load(open(os.path.join(\"data\", \"mdps\", \"small\" ,\"small_mdp_path_test.bin\"), 'rb'))\n",
    "\n",
    "print(len(train_path)/ (len(train_path) + len(test_path)))\n"
   ]
  },
  {
   "cell_type": "code",
   "execution_count": 10,
   "metadata": {},
   "outputs": [],
   "source": [
    "from utils import ListDataset\n",
    "\n",
    "batch_size = 64\n",
    "train_dataset = ListDataset(train_path, batch_size=batch_size)"
   ]
  },
  {
   "cell_type": "code",
   "execution_count": 11,
   "metadata": {},
   "outputs": [],
   "source": [
    "import torch.optim as optim\n",
    "\n",
    "criterion = nn.NLLLoss()\n",
    "optimizer = optim.Adam(net.parameters(), lr=0.001)\n",
    "loder_len = len(train_path)"
   ]
  },
  {
   "cell_type": "code",
   "execution_count": 12,
   "metadata": {},
   "outputs": [],
   "source": [
    "net.to(device)"
   ]
  },
  {
   "cell_type": "markdown",
   "metadata": {},
   "source": [
    "Training Loop"
   ]
  },
  {
   "cell_type": "code",
   "execution_count": 13,
   "metadata": {},
   "outputs": [
    {
     "name": "stderr",
     "output_type": "stream",
     "text": [
      "100%|██████████| 10/10 [00:00<00:00, 9969.82it/s]\n",
      "Epoch 0.  : 100%|██████████| 4533/4533 [00:39<00:00, 114.62it/s, loss=4.200]\n",
      "Epoch 1.  : 100%|██████████| 4533/4533 [00:55<00:00, 81.04it/s, loss=4.176] \n",
      "Epoch 2.  : 100%|██████████| 4533/4533 [01:30<00:00, 49.93it/s, loss=4.127]"
     ]
    },
    {
     "name": "stdout",
     "output_type": "stream",
     "text": [
      "Finished Training\n",
      "CPU times: total: 16min 31s\n",
      "Wall time: 3min 6s\n"
     ]
    },
    {
     "name": "stderr",
     "output_type": "stream",
     "text": [
      "\n"
     ]
    }
   ],
   "source": [
    "%%time\n",
    "from tqdm import tqdm\n",
    "\n",
    "losses = []\n",
    "avg_losses = []\n",
    "batch_losses = []\n",
    "frob_diff = []\n",
    "t = torch.from_numpy(MDP.get_transitions())\n",
    "for epoch in range(3):  # loop over the dataset multiple times\n",
    "\n",
    "    running_loss = 0.0\n",
    "    avg_loss = 0.0\n",
    "    with tqdm(enumerate(train_dataset, 0), total=(loder_len // batch_size)) as tepoch:\n",
    "        for i, data in tepoch:\n",
    "            tepoch.set_description(f\"Epoch {epoch}.  \")\n",
    "\n",
    "            # get the inputs; data is a list of [inputs, labels]\n",
    "            input_states, input_actions, labels = data[0].to(device), data[1].to(device), data[2].to(device)\n",
    "\n",
    "            # zero the parameter gradients\n",
    "            optimizer.zero_grad()\n",
    "\n",
    "            # forward + backward + optimize\n",
    "            outputs = torch.log(net(input_states, input_actions))\n",
    "            loss = criterion(outputs, labels)\n",
    "            loss.backward()\n",
    "            optimizer.step()\n",
    "\n",
    "            # print statistics\n",
    "            losses.append(loss.item())\n",
    "            running_loss += loss.item()\n",
    "\n",
    "            if i % 10 == 9:    # print every 10 mini-batches\n",
    "                tepoch.set_postfix(loss=f'{running_loss / 10:.3f}')\n",
    "                batch_losses.append(running_loss / 10)\n",
    "                running_loss = 0.0\n",
    "\n",
    "            if i % 10 == 9:\n",
    "                with torch.no_grad():\n",
    "                    m0 = net.phi_a_matrix(torch.tensor(0)).detach().unsqueeze(0).to(\"cpu\")\n",
    "                    for i in range(1, MDP.A):\n",
    "                        ma = net.phi_a_matrix(torch.tensor(0)).detach().unsqueeze(0).to(\"cpu\")\n",
    "                        m0 = torch.cat((m0, ma), dim=0)\n",
    "                        \n",
    "                    frob = torch.norm((m0-t))\n",
    "                    frob_diff.append(frob)\n",
    "                    \n",
    "\n",
    "                    \n",
    "        \n",
    "        avg_losses.append(running_loss / (loder_len // batch_size))\n",
    "\n",
    "\n",
    "\n",
    "print('Finished Training')"
   ]
  },
  {
   "cell_type": "code",
   "execution_count": 14,
   "metadata": {},
   "outputs": [
    {
     "data": {
      "text/plain": [
       "Text(0, 0.5, 'NLLLoss')"
      ]
     },
     "execution_count": 14,
     "metadata": {},
     "output_type": "execute_result"
    },
    {
     "data": {
      "image/png": "[encoded data removed]",
      "text/plain": [
       "<Figure size 640x480 with 1 Axes>"
      ]
     },
     "metadata": {},
     "output_type": "display_data"
    }
   ],
   "source": [
    "import seaborn as sns\n",
    "import matplotlib.pyplot as plt\n",
    "sns.set_theme()\n",
    "plt.plot(batch_losses)\n",
    "plt.title(\"Negative Log-Likelihood loss per batch iteration\")\n",
    "plt.xlabel(\"Batch iterations\")\n",
    "plt.ylabel(\"NLLLoss\")\n",
    "# plt.savefig(\"./images/small_mdp_loss_lg_emb.pdf\",format=\"pdf\", bbox_inches=\"tight\")"
   ]
  },
  {
   "cell_type": "markdown",
   "metadata": {},
   "source": [
    "Next will be the behaviour of our net in term of difference of frobenius norm. This can help us do a relatively easy comparative between this approach and others like sGS_ADMM_MDPs"
   ]
  },
  {
   "cell_type": "code",
   "execution_count": 15,
   "metadata": {},
   "outputs": [
    {
     "data": {
      "text/plain": [
       "Text(0, 0.5, '$\\\\sum_{a \\\\in \\\\mathcal{A}}||X_a - M_a||_{fb}$')"
      ]
     },
     "execution_count": 15,
     "metadata": {},
     "output_type": "execute_result"
    },
    {
     "data": {
      "image/png": "[encoded data removed]",
      "text/plain": [
       "<Figure size 1200x450 with 1 Axes>"
      ]
     },
     "metadata": {},
     "output_type": "display_data"
    }
   ],
   "source": [
    "# frob_diff_batch = [i for i in frob_diff for j in range(5)]\n",
    "plt.figure(figsize=(12, 4.5))\n",
    "plt.plot(frob_diff)\n",
    "plt.title(\"Difference of Frobenius norm per batch iteration\")\n",
    "plt.xlabel(\"Batch iterations\")\n",
    "plt.ylabel(\"$\\sum_{a \\in \\mathcal{A}}||X_a - M_a||_{fb}$\")\n",
    "# plt.savefig(\"./images/small_mdp_fb_diff_lg_emb.pdf\",format=\"pdf\", bbox_inches=\"tight\")"
   ]
  },
  {
   "cell_type": "code",
   "execution_count": null,
   "metadata": {},
   "outputs": [],
   "source": []
  },
  {
   "cell_type": "code",
   "execution_count": 19,
   "metadata": {},
   "outputs": [
    {
     "data": {
      "text/plain": [
       "torch.Size([10, 100, 100])"
      ]
     },
     "execution_count": 19,
     "metadata": {},
     "output_type": "execute_result"
    }
   ],
   "source": [
    "m0 = net.phi_a_matrix(torch.tensor(0)).detach().unsqueeze(0).to(\"cpu\")\n",
    "for i in range(1, MDP.A):\n",
    "    ma = net.phi_a_matrix(torch.tensor(0)).detach().unsqueeze(0).to(\"cpu\")\n",
    "    m0 = torch.cat((m0, ma), dim=0)\n",
    "m0.size()"
   ]
  },
  {
   "cell_type": "code",
   "execution_count": 20,
   "metadata": {},
   "outputs": [
    {
     "name": "stderr",
     "output_type": "stream",
     "text": [
      "100%|██████████| 10/10 [00:00<00:00, 4995.60it/s]\n"
     ]
    },
    {
     "data": {
      "text/plain": [
       "torch.Size([10, 100, 100])"
      ]
     },
     "execution_count": 20,
     "metadata": {},
     "output_type": "execute_result"
    }
   ],
   "source": [
    "m0_real = torch.from_numpy(MDP.get_transitions())\n",
    "m0_real.size()"
   ]
  },
  {
   "cell_type": "code",
   "execution_count": 21,
   "metadata": {},
   "outputs": [
    {
     "data": {
      "text/plain": [
       "tensor(3.4184, dtype=torch.float64)"
      ]
     },
     "execution_count": 21,
     "metadata": {},
     "output_type": "execute_result"
    }
   ],
   "source": [
    "torch.norm((m0-m0_real))"
   ]
  },
  {
   "cell_type": "code",
   "execution_count": 40,
   "metadata": {},
   "outputs": [
    {
     "name": "stderr",
     "output_type": "stream",
     "text": [
      "100%|██████████| 10/10 [00:00<00:00, 9984.06it/s]\n"
     ]
    },
    {
     "data": {
      "text/plain": [
       "tensor(4.8705, dtype=torch.float64)"
      ]
     },
     "execution_count": 40,
     "metadata": {},
     "output_type": "execute_result"
    }
   ],
   "source": [
    "other =  SimplexEnvironment(states=100, actions=10, bell_rank=3)\n",
    "t_other = torch.from_numpy(other.get_transitions())\n",
    "torch.norm((t-t_other))"
   ]
  },
  {
   "cell_type": "markdown",
   "metadata": {},
   "source": [
    "torch.norm((t-t_other))"
   ]
  },
  {
   "cell_type": "code",
   "execution_count": 12,
   "metadata": {},
   "outputs": [],
   "source": [
    "st = torch.tensor([i for i in range(MDP.S) for j in range(MDP.A)])\n",
    "acts = torch.tensor(list(range(MDP.A))*MDP.S)"
   ]
  },
  {
   "cell_type": "code",
   "execution_count": 16,
   "metadata": {},
   "outputs": [],
   "source": [
    "x = ''\n",
    "with torch.no_grad():\n",
    "    x = net.phi(st, acts).detach().to(\"cpu\").view(MDP.S, -1, MDP.d).numpy()"
   ]
  },
  {
   "cell_type": "code",
   "execution_count": 17,
   "metadata": {},
   "outputs": [
    {
     "data": {
      "text/plain": [
       "(100, 10, 3)"
      ]
     },
     "execution_count": 17,
     "metadata": {},
     "output_type": "execute_result"
    }
   ],
   "source": [
    "x.shape"
   ]
  },
  {
   "cell_type": "code",
   "execution_count": 18,
   "metadata": {},
   "outputs": [],
   "source": [
    "from utils import SimplexPlanner\n",
    "planner = SimplexPlanner(MDP.S, MDP.A, net.d, x)"
   ]
  },
  {
   "cell_type": "code",
   "execution_count": 21,
   "metadata": {},
   "outputs": [
    {
     "data": {
      "text/plain": [
       "[array([7, 7, 7, 7, 7, 7, 7, 7, 7, 7, 7, 7, 7, 7, 7, 7, 7, 7, 7, 7, 7, 7,\n",
       "        7, 7, 7, 7, 7, 7, 7, 7, 7, 7, 7, 7, 7, 7, 7, 7, 7, 7, 7, 7, 7, 7,\n",
       "        7, 7, 7, 7, 7, 7, 7, 7, 7, 7, 7, 7, 7, 7, 7, 7, 7, 7, 7, 7, 7, 7,\n",
       "        7, 7, 7, 7, 7, 7, 7, 7, 7, 7, 7, 7, 7, 7, 7, 7, 7, 7, 7, 7, 7, 7,\n",
       "        7, 7, 7, 7, 7, 7, 7, 7, 7, 7, 7, 7], dtype=int64),\n",
       " array([5, 5, 5, 5, 5, 5, 5, 5, 5, 5, 5, 5, 5, 5, 5, 5, 5, 5, 5, 5, 5, 5,\n",
       "        5, 5, 5, 5, 5, 5, 5, 5, 5, 5, 5, 5, 5, 5, 5, 5, 5, 5, 5, 5, 5, 5,\n",
       "        5, 5, 5, 5, 5, 5, 5, 5, 5, 5, 5, 5, 5, 5, 5, 5, 5, 5, 5, 5, 5, 5,\n",
       "        5, 5, 5, 5, 5, 5, 5, 5, 5, 5, 5, 5, 5, 5, 5, 5, 5, 5, 5, 5, 5, 5,\n",
       "        5, 5, 5, 5, 5, 5, 5, 5, 5, 5, 5, 5], dtype=int64),\n",
       " array([5, 5, 5, 5, 5, 5, 5, 5, 5, 5, 5, 5, 5, 5, 5, 5, 5, 5, 5, 5, 5, 5,\n",
       "        5, 5, 5, 5, 5, 5, 5, 5, 5, 5, 5, 5, 5, 5, 5, 5, 5, 5, 5, 5, 5, 5,\n",
       "        5, 5, 5, 5, 5, 5, 5, 5, 5, 5, 5, 5, 5, 5, 5, 5, 5, 5, 5, 5, 5, 5,\n",
       "        5, 5, 5, 5, 5, 5, 5, 5, 5, 5, 5, 5, 5, 5, 5, 5, 5, 5, 5, 5, 5, 5,\n",
       "        5, 5, 5, 5, 5, 5, 5, 5, 5, 5, 5, 5], dtype=int64)]"
      ]
     },
     "execution_count": 21,
     "metadata": {},
     "output_type": "execute_result"
    }
   ],
   "source": [
    "planner.polices"
   ]
  },
  {
   "cell_type": "code",
   "execution_count": 137,
   "metadata": {},
   "outputs": [
    {
     "data": {
      "text/plain": [
       "(100, 10, 3)"
      ]
     },
     "execution_count": 137,
     "metadata": {},
     "output_type": "execute_result"
    }
   ],
   "source": [
    "MDP.P.shape"
   ]
  },
  {
   "cell_type": "code",
   "execution_count": 49,
   "metadata": {},
   "outputs": [
    {
     "data": {
      "text/plain": [
       "7"
      ]
     },
     "execution_count": 49,
     "metadata": {},
     "output_type": "execute_result"
    }
   ],
   "source": [
    "planner.get_action(1)"
   ]
  },
  {
   "cell_type": "code",
   "execution_count": 129,
   "metadata": {},
   "outputs": [
    {
     "data": {
      "text/plain": [
       "torch.Size([100, 10])"
      ]
     },
     "execution_count": 129,
     "metadata": {},
     "output_type": "execute_result"
    }
   ],
   "source": [
    "x[..., 1].shape"
   ]
  },
  {
   "cell_type": "code",
   "execution_count": 24,
   "metadata": {},
   "outputs": [
    {
     "data": {
      "text/plain": [
       "array([4, 9, 7, 5, 9, 2, 2, 9, 9, 0, 0, 8, 7, 0, 9, 9, 3, 2, 7, 2, 3, 3,\n",
       "       5, 9, 7, 0, 6, 6, 8, 7, 1, 4, 1, 7, 1, 2, 4, 5, 8, 1, 1, 3, 0, 6,\n",
       "       1, 2, 3, 9, 8, 1, 9, 1, 8, 5, 9, 9, 3, 1, 7, 4, 0, 5, 6, 5, 1, 4,\n",
       "       2, 5, 1, 0, 6, 7, 6, 6, 3, 3, 1, 3, 2, 1, 3, 1, 1, 6, 2, 0, 8, 2,\n",
       "       2, 7, 8, 8, 7, 2, 4, 2, 9, 7, 0, 2], dtype=int64)"
      ]
     },
     "execution_count": 24,
     "metadata": {},
     "output_type": "execute_result"
    }
   ],
   "source": [
    "import numpy as np\n",
    "np.argmax(MDP.P[..., 0], axis=-1)"
   ]
  },
  {
   "cell_type": "code",
   "execution_count": 30,
   "metadata": {},
   "outputs": [
    {
     "data": {
      "text/plain": [
       "array([7, 7, 7, 7, 7, 7, 7, 7, 7, 7, 7, 7, 7, 7, 7, 7, 7, 7, 7, 7, 7, 7,\n",
       "       7, 7, 7, 7, 7, 7, 7, 7, 7, 7, 7, 7, 7, 7, 7, 7, 7, 7, 7, 7, 7, 7,\n",
       "       7, 7, 7, 7, 7, 7, 7, 7, 7, 7, 7, 7, 7, 7, 7, 7, 7, 7, 7, 7, 7, 7,\n",
       "       7, 7, 7, 7, 7, 7, 7, 7, 7, 7, 7, 7, 7, 7, 7, 7, 7, 7, 7, 7, 7, 7,\n",
       "       7, 7, 7, 7, 7, 7, 7, 7, 7, 7, 7, 7], dtype=int64)"
      ]
     },
     "execution_count": 30,
     "metadata": {},
     "output_type": "execute_result"
    }
   ],
   "source": [
    "np.argmin(x[...,0], axis=-1)"
   ]
  },
  {
   "cell_type": "code",
   "execution_count": null,
   "metadata": {},
   "outputs": [],
   "source": []
  },
  {
   "cell_type": "code",
   "execution_count": 111,
   "metadata": {},
   "outputs": [
    {
     "data": {
      "text/plain": [
       "tensor([[[0.0767, 0.0821, 0.8412]]], device='cuda:0',\n",
       "       grad_fn=<SoftmaxBackward0>)"
      ]
     },
     "execution_count": 111,
     "metadata": {},
     "output_type": "execute_result"
    }
   ],
   "source": [
    "net.phi(torch.tensor([10]),torch.tensor([9]))"
   ]
  },
  {
   "cell_type": "code",
   "execution_count": 58,
   "metadata": {},
   "outputs": [
    {
     "name": "stdout",
     "output_type": "stream",
     "text": [
      "tensor([[[1.5668e-02, 1.1168e-05, 9.8432e-01]]], device='cuda:0',\n",
      "       grad_fn=<SoftmaxBackward0>)\n"
     ]
    }
   ],
   "source": [
    "print(net.phi(torch.tensor([0]),torch.tensor([0])))"
   ]
  },
  {
   "cell_type": "code",
   "execution_count": 67,
   "metadata": {},
   "outputs": [
    {
     "name": "stdout",
     "output_type": "stream",
     "text": [
      "tensor([[[1.9843e-03, 1.2494e-05, 9.9800e-01]],\n",
      "\n",
      "        [[3.1845e-01, 5.6387e-05, 6.8149e-01]]], device='cuda:0')\n"
     ]
    }
   ],
   "source": [
    "with torch.no_grad():\n",
    "    print(net.phi(torch.tensor([1,0]), torch.tensor([1,0])))"
   ]
  },
  {
   "cell_type": "code",
   "execution_count": 70,
   "metadata": {},
   "outputs": [
    {
     "data": {
      "text/plain": [
       "tensor([[[1., 0., 0., 0., 0., 0., 0., 0., 0., 0., 0., 0., 0., 0., 0., 0., 0.,\n",
       "          0., 0., 0., 0., 0., 0., 0., 0., 0., 0., 0., 0., 0., 0., 0., 0., 0.,\n",
       "          0., 0., 0., 0., 0., 0., 0., 0., 0., 0., 0., 0., 0., 0., 0., 0., 0.,\n",
       "          0., 0., 0., 0., 0., 0., 0., 0., 0., 0., 0., 0., 0., 0., 0., 0., 0.,\n",
       "          0., 0., 0., 0., 0., 0., 0., 0., 0., 0., 0., 0., 0., 0., 0., 0., 0.,\n",
       "          0., 0., 0., 0., 0., 0., 0., 0., 0., 0., 0., 0., 0., 0., 0., 1., 0.,\n",
       "          0., 0., 0., 0., 0., 0., 0., 0.]]], device='cuda:0')"
      ]
     },
     "execution_count": 70,
     "metadata": {},
     "output_type": "execute_result"
    }
   ],
   "source": [
    "net.encode_input(torch.tensor([0]),torch.tensor([0]))"
   ]
  },
  {
   "cell_type": "code",
   "execution_count": 65,
   "metadata": {},
   "outputs": [
    {
     "data": {
      "text/plain": [
       "tensor([[[0., 1., 0., 0., 0., 0., 0., 0., 0., 0., 0., 0., 0., 0., 0., 0., 0.,\n",
       "          0., 0., 0., 0., 0., 0., 0., 0., 0., 0., 0., 0., 0., 0., 0., 0., 0.,\n",
       "          0., 0., 0., 0., 0., 0., 0., 0., 0., 0., 0., 0., 0., 0., 0., 0., 0.,\n",
       "          0., 0., 0., 0., 0., 0., 0., 0., 0., 0., 0., 0., 0., 0., 0., 0., 0.,\n",
       "          0., 0., 0., 0., 0., 0., 0., 0., 0., 0., 0., 0., 0., 0., 0., 0., 0.,\n",
       "          0., 0., 0., 0., 0., 0., 0., 0., 0., 0., 0., 0., 0., 0., 0., 0., 1.,\n",
       "          0., 0., 0., 0., 0., 0., 0., 0.]],\n",
       "\n",
       "        [[1., 0., 0., 0., 0., 0., 0., 0., 0., 0., 0., 0., 0., 0., 0., 0., 0.,\n",
       "          0., 0., 0., 0., 0., 0., 0., 0., 0., 0., 0., 0., 0., 0., 0., 0., 0.,\n",
       "          0., 0., 0., 0., 0., 0., 0., 0., 0., 0., 0., 0., 0., 0., 0., 0., 0.,\n",
       "          0., 0., 0., 0., 0., 0., 0., 0., 0., 0., 0., 0., 0., 0., 0., 0., 0.,\n",
       "          0., 0., 0., 0., 0., 0., 0., 0., 0., 0., 0., 0., 0., 0., 0., 0., 0.,\n",
       "          0., 0., 0., 0., 0., 0., 0., 0., 0., 0., 0., 0., 0., 0., 0., 1., 0.,\n",
       "          0., 0., 0., 0., 0., 0., 0., 0.]]])"
      ]
     },
     "execution_count": 65,
     "metadata": {},
     "output_type": "execute_result"
    }
   ],
   "source": [
    "s = torch.tensor([1,0])\n",
    "a = torch.tensor([1,0])\n",
    "input_len = len(s) if hasattr(s, '__len__') else 1\n",
    "actions_len = len(a) if hasattr(a, '__len__') else 1\n",
    "s_hot = F.one_hot(s.view(input_len, 1), net.states).to(torch.float32)\n",
    "a_hot = F.one_hot(a.view(input_len, 1), net.actions).to(torch.float32)\n",
    "x = torch.cat((s_hot, a_hot), dim=-1)# Concat one hot vectors \n",
    "\n",
    "x"
   ]
  },
  {
   "cell_type": "code",
   "execution_count": 63,
   "metadata": {},
   "outputs": [
    {
     "data": {
      "text/plain": [
       "torch.Size([2, 1, 110])"
      ]
     },
     "execution_count": 63,
     "metadata": {},
     "output_type": "execute_result"
    }
   ],
   "source": [
    "net.encode_input(torch.tensor([1,0]),torch.tensor([1,0])).shape"
   ]
  },
  {
   "cell_type": "code",
   "execution_count": 92,
   "metadata": {},
   "outputs": [
    {
     "data": {
      "text/plain": [
       "tensor([[[ 2.0709, -0.8627, -0.8655, -0.8636, -0.8677,  1.0508,  0.6427,\n",
       "          -0.8610,  2.1643,  1.0005, -0.8658,  0.3544,  1.7129, -0.8606,\n",
       "          -0.8675, -0.8619, -0.8600, -0.8691,  0.5492, -0.8702]],\n",
       "\n",
       "        [[ 0.1667, -0.8588, -0.8600, -0.8590, -0.8609, -0.1262, -0.3458,\n",
       "          -0.8584,  0.3037, -0.1988, -0.8605, -0.4401,  0.0068, -0.8590,\n",
       "          -0.8614, -0.8587, -0.8578, -0.8614, -0.3321, -0.8612]]],\n",
       "       device='cuda:0', grad_fn=<CudnnBatchNormBackward0>)"
      ]
     },
     "execution_count": 92,
     "metadata": {},
     "output_type": "execute_result"
    }
   ],
   "source": [
    "s = torch.tensor([1,0])\n",
    "a = torch.tensor([1,0])\n",
    "x = net.encode_input(s, a) \n",
    "x = F.relu(net.l1(x))\n",
    "x = F.leaky_relu(net.l2(x))\n",
    "x = net.bn1(x)\n",
    "# x = net.embedding(x)\n",
    "x"
   ]
  },
  {
   "cell_type": "code",
   "execution_count": 91,
   "metadata": {},
   "outputs": [
    {
     "data": {
      "text/plain": [
       "tensor([[[ 1.3641, -0.9508, -0.9531, -0.9515, -0.9547,  0.5591,  0.2371,\n",
       "          -0.9495,  1.4377,  0.5194, -0.9532,  0.0095,  1.0815, -0.9492,\n",
       "          -0.9546, -0.9502, -0.9487, -0.9559,  0.1633, -0.9568]]],\n",
       "       device='cuda:0', grad_fn=<CudnnBatchNormBackward0>)"
      ]
     },
     "execution_count": 91,
     "metadata": {},
     "output_type": "execute_result"
    }
   ],
   "source": [
    "s = torch.tensor([1])\n",
    "a = torch.tensor([1])\n",
    "x = net.encode_input(s, a) \n",
    "x = F.relu(net.l1(x))\n",
    "x = F.leaky_relu(net.l2(x))\n",
    "x = net.bn1(x)\n",
    "# x = net.embedding(x)\n",
    "x"
   ]
  },
  {
   "cell_type": "code",
   "execution_count": 17,
   "metadata": {},
   "outputs": [],
   "source": [
    "import numpy as np\n",
    "s = np.array([0,1,2])\n",
    "a = np.array([0,1])"
   ]
  },
  {
   "cell_type": "code",
   "execution_count": 31,
   "metadata": {},
   "outputs": [
    {
     "data": {
      "text/plain": [
       "array([[[0, 0, 0],\n",
       "        [0, 0, 0]],\n",
       "\n",
       "       [[1, 1, 1],\n",
       "        [1, 1, 1]],\n",
       "\n",
       "       [[2, 2, 2],\n",
       "        [2, 2, 2]]])"
      ]
     },
     "execution_count": 31,
     "metadata": {},
     "output_type": "execute_result"
    }
   ],
   "source": [
    "s1 = np.repeat(s, [6]*3).reshape(3,2,3)\n",
    "s1"
   ]
  },
  {
   "cell_type": "code",
   "execution_count": 30,
   "metadata": {},
   "outputs": [
    {
     "data": {
      "text/plain": [
       "array([[[0, 0, 0],\n",
       "        [1, 1, 1]],\n",
       "\n",
       "       [[0, 0, 0],\n",
       "        [1, 1, 1]],\n",
       "\n",
       "       [[0, 0, 0],\n",
       "        [1, 1, 1]]])"
      ]
     },
     "execution_count": 30,
     "metadata": {},
     "output_type": "execute_result"
    }
   ],
   "source": [
    "a1 = np.tile(np.repeat(a, [len(s)]*len(a)), len(s)).reshape(3,2,3)\n",
    "a1"
   ]
  },
  {
   "cell_type": "code",
   "execution_count": 29,
   "metadata": {},
   "outputs": [
    {
     "data": {
      "text/plain": [
       "array([[[0, 1, 2],\n",
       "        [0, 1, 2]],\n",
       "\n",
       "       [[0, 1, 2],\n",
       "        [0, 1, 2]],\n",
       "\n",
       "       [[0, 1, 2],\n",
       "        [0, 1, 2]]])"
      ]
     },
     "execution_count": 29,
     "metadata": {},
     "output_type": "execute_result"
    }
   ],
   "source": [
    "s2 = np.tile(s, len(s) * len(a)).reshape(3,2,3)\n",
    "s2"
   ]
  },
  {
   "cell_type": "code",
   "execution_count": 32,
   "metadata": {},
   "outputs": [],
   "source": [
    "def reward(s_prev, a, s_next):\n",
    "    return np.log(s_prev + 1) + np.log(a + 1) + np.log(s_next + 1)"
   ]
  },
  {
   "cell_type": "code",
   "execution_count": 34,
   "metadata": {},
   "outputs": [
    {
     "data": {
      "text/plain": [
       "array([[[0.        , 0.69314718, 1.09861229],\n",
       "        [0.69314718, 1.38629436, 1.79175947]],\n",
       "\n",
       "       [[0.69314718, 1.38629436, 1.79175947],\n",
       "        [1.38629436, 2.07944154, 2.48490665]],\n",
       "\n",
       "       [[1.09861229, 1.79175947, 2.19722458],\n",
       "        [1.79175947, 2.48490665, 2.89037176]]])"
      ]
     },
     "execution_count": 34,
     "metadata": {},
     "output_type": "execute_result"
    }
   ],
   "source": [
    "reward(s1,a1,s2)"
   ]
  },
  {
   "cell_type": "code",
   "execution_count": 37,
   "metadata": {},
   "outputs": [
    {
     "data": {
      "text/plain": [
       "array([0, 0, 0, 0, 1, 1, 1, 1, 2, 2, 2, 2])"
      ]
     },
     "execution_count": 37,
     "metadata": {},
     "output_type": "execute_result"
    }
   ],
   "source": [
    "np.repeat(np.arange(3), [4,4,4])"
   ]
  },
  {
   "cell_type": "code",
   "execution_count": 52,
   "metadata": {},
   "outputs": [
    {
     "data": {
      "text/plain": [
       "array([[[ 0,  1,  2],\n",
       "        [ 3,  4,  5],\n",
       "        [ 6,  7,  8]],\n",
       "\n",
       "       [[ 9, 10, 11],\n",
       "        [12, 13, 14],\n",
       "        [15, 16, 17]],\n",
       "\n",
       "       [[18, 19, 20],\n",
       "        [21, 22, 23],\n",
       "        [24, 25, 26]]])"
      ]
     },
     "execution_count": 52,
     "metadata": {},
     "output_type": "execute_result"
    }
   ],
   "source": [
    "x = np.arange(27).reshape(3,3,3)\n",
    "x"
   ]
  },
  {
   "cell_type": "code",
   "execution_count": 65,
   "metadata": {},
   "outputs": [
    {
     "data": {
      "text/plain": [
       "array([[[ 3],\n",
       "        [12],\n",
       "        [21]],\n",
       "\n",
       "       [[30],\n",
       "        [39],\n",
       "        [48]],\n",
       "\n",
       "       [[57],\n",
       "        [66],\n",
       "        [75]]])"
      ]
     },
     "execution_count": 65,
     "metadata": {},
     "output_type": "execute_result"
    }
   ],
   "source": [
    "x = np.arange(27).reshape(3,3,3)\n",
    "x = np.sum(x, axis=-1).reshape(3,3, 1)\n",
    "x"
   ]
  },
  {
   "cell_type": "code",
   "execution_count": 19,
   "metadata": {},
   "outputs": [
    {
     "data": {
      "text/plain": [
       "array([ 3, 12, 21])"
      ]
     },
     "execution_count": 19,
     "metadata": {},
     "output_type": "execute_result"
    }
   ],
   "source": [
    "np.sum(np.arange(9).reshape(3,3), axis=-1)"
   ]
  },
  {
   "cell_type": "code",
   "execution_count": 15,
   "metadata": {},
   "outputs": [
    {
     "data": {
      "text/plain": [
       "array([0, 1, 2])"
      ]
     },
     "execution_count": 15,
     "metadata": {},
     "output_type": "execute_result"
    }
   ],
   "source": [
    "import numpy as np\n",
    "from operator import itemgetter\n",
    "a = np.arange(3)\n",
    "d = {0: 0, 1:1, 2: 2}\n",
    "\n",
    "np.array(itemgetter(*a.tolist())(d))\n"
   ]
  },
  {
   "cell_type": "code",
   "execution_count": 17,
   "metadata": {},
   "outputs": [
    {
     "data": {
      "text/plain": [
       "array([0, 1, 2, 0, 1, 2, 0, 1, 2])"
      ]
     },
     "execution_count": 17,
     "metadata": {},
     "output_type": "execute_result"
    }
   ],
   "source": [
    "np.tile(a, 3)"
   ]
  },
  {
   "cell_type": "code",
   "execution_count": 16,
   "metadata": {},
   "outputs": [
    {
     "data": {
      "text/plain": [
       "array([0, 0, 0, 1, 1, 1, 2, 2, 2])"
      ]
     },
     "execution_count": 16,
     "metadata": {},
     "output_type": "execute_result"
    }
   ],
   "source": [
    "np.repeat(a, [3]*3)"
   ]
  },
  {
   "cell_type": "code",
   "execution_count": 20,
   "metadata": {},
   "outputs": [
    {
     "data": {
      "text/plain": [
       "array([[1., 0., 0., 0., 0., 0.],\n",
       "       [0., 1., 0., 0., 0., 0.],\n",
       "       [0., 0., 1., 0., 0., 0.],\n",
       "       [0., 0., 0., 1., 0., 0.],\n",
       "       [0., 0., 0., 0., 1., 0.],\n",
       "       [0., 0., 0., 0., 0., 1.]])"
      ]
     },
     "execution_count": 20,
     "metadata": {},
     "output_type": "execute_result"
    }
   ],
   "source": [
    "np.eye(6)"
   ]
  }
 ],
 "metadata": {
  "kernelspec": {
   "display_name": "Python 3.9.13 ('dl_arch_env')",
   "language": "python",
   "name": "python3"
  },
  "language_info": {
   "codemirror_mode": {
    "name": "ipython",
    "version": 3
   },
   "file_extension": ".py",
   "mimetype": "text/x-python",
   "name": "python",
   "nbconvert_exporter": "python",
   "pygments_lexer": "ipython3",
   "version": "3.9.13 (main, Aug 25 2022, 23:51:50) [MSC v.1916 64 bit (AMD64)]"
  },
  "orig_nbformat": 4,
  "vscode": {
   "interpreter": {
    "hash": "4ae4df1c5943cf4748546a76d45f227f53fb8acff87095bbb53afeb5cd17aec1"
   }
  }
 },
 "nbformat": 4,
 "nbformat_minor": 2
}
