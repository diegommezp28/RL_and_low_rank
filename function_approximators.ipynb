{
 "cells": [
  {
   "cell_type": "code",
   "execution_count": 1,
   "metadata": {},
   "outputs": [
    {
     "name": "stderr",
     "output_type": "stream",
     "text": [
      "100%|██████████| 10/10 [00:00<00:00, 1665.99it/s]\n"
     ]
    }
   ],
   "source": [
    "from pickle import load\n",
    "import os\n",
    "import torch\n",
    "from utils import SimplexEnvironment\n",
    "\n",
    "MDP = load(open(os.path.join(\"data\", \"mdps\", \"small\" ,\"small_mdp.bin\"), 'rb'))\n",
    "t = torch.from_numpy(MDP.get_transitions()).to(torch.float32)"
   ]
  },
  {
   "cell_type": "code",
   "execution_count": 2,
   "metadata": {},
   "outputs": [
    {
     "name": "stdout",
     "output_type": "stream",
     "text": [
      "100 10 3\n"
     ]
    }
   ],
   "source": [
    "print( MDP.S, MDP.A, MDP.d)"
   ]
  },
  {
   "cell_type": "markdown",
   "metadata": {},
   "source": [
    "We will use a Neural Network To approximate the embedding functions of our MDP."
   ]
  },
  {
   "cell_type": "code",
   "execution_count": 3,
   "metadata": {},
   "outputs": [],
   "source": [
    "import torch.nn as nn\n",
    "import torch.nn.functional as F\n",
    "import torch"
   ]
  },
  {
   "cell_type": "code",
   "execution_count": 4,
   "metadata": {},
   "outputs": [
    {
     "name": "stdout",
     "output_type": "stream",
     "text": [
      "cuda:0\n"
     ]
    }
   ],
   "source": [
    "\n",
    "device = torch.device('cuda:0' if torch.cuda.is_available() else 'cpu')\n",
    "print(device)"
   ]
  },
  {
   "cell_type": "code",
   "execution_count": 5,
   "metadata": {},
   "outputs": [],
   "source": [
    "class Net(nn.Module): \n",
    "    def __init__(self, states, actions, d):\n",
    "        super(Net, self).__init__()\n",
    "        self.states = states\n",
    "        self.actions = actions\n",
    "        self.d = d\n",
    "        self.device = 'cpu'\n",
    "    \n",
    "        self.l1 = nn.Linear(self.states + self.actions, 120)  #First Linear layers, Receives concat onehot enconding of state-action pair\n",
    "        self.l2 = nn.Linear(120, 20)\n",
    "        self.bn1 = nn.BatchNorm1d(num_features=1)\n",
    "        self.embedding = nn.Linear(20, self.d)\n",
    "\n",
    "        self.mu_weights = nn.Parameter(torch.full((self.d, self.states), 1/self.states))\n",
    "    \n",
    "    def to(self, device):\n",
    "        self.device = device\n",
    "        super(Net, self).to(device)\n",
    "\n",
    "    def encode_input(self, s, a):\n",
    "         \"\"\"\n",
    "        # Parameters:\n",
    "        s: State id or list like of state ids between 0 and self.states\n",
    "        a: Action id or list like of actions ids between 0 and self.actions\n",
    "\n",
    "        If s and a are list-like, both need to be the same lenght\n",
    "         \"\"\"\n",
    "         input_len = len(s) if hasattr(s, '__len__') else 1\n",
    "         actions_len = len(a) if hasattr(a, '__len__') else 1\n",
    "         assert input_len == actions_len, f\"The input lenghts do not coincide. Input States: {input_len}; Input Actions: {actions_len}\"\n",
    "\n",
    "         s_hot = F.one_hot(s.view(input_len, 1), self.states).to(torch.float32)\n",
    "         a_hot = F.one_hot(a.view(input_len, 1), self.actions).to(torch.float32)\n",
    "         x = torch.cat((s_hot, a_hot), dim=-1)# Concat one hot vectors \n",
    "         return x.to(self.device)\n",
    "\n",
    "    def enconde_output(self, s):\n",
    "        input_len = len(s) if hasattr(s, '__len__') else 1\n",
    "        return F.one_hot(s.view(input_len, 1), self.states).to(torch.float32)\n",
    "\n",
    "\n",
    "    def phi(self, s, a):\n",
    "        \"\"\"\n",
    "        # Parameters:\n",
    "        s: State id or list like of state ids between 0 and self.states\n",
    "        a: Action id or list like of actions ids between 0 and self.actions\n",
    "\n",
    "        If s and a are list-like, both need to be the same lenght\n",
    "         \"\"\"\n",
    "        \n",
    "        x = self.encode_input(s, a) \n",
    "        x = F.relu(self.l1(x))\n",
    "        x = F.leaky_relu(self.l2(x))\n",
    "        x = self.bn1(x)\n",
    "        x = F.softmax(self.embedding(x), dim=-1) # Apply softmax row wise\n",
    "\n",
    "        return x # This should be of shape (batch_size, 1, d)\n",
    "\n",
    "    def mu(self):\n",
    "        return F.softmax(self.mu_weights, dim=-1)\n",
    "\n",
    "    def forward(self, s, a):\n",
    "        \"\"\"\n",
    "        # Parameters:\n",
    "        s: State id or list like of state ids between 0 and self.states\n",
    "        a: Action id or list like of actions ids between 0 and self.actions\n",
    "\n",
    "        If s and a are list-like, both need to be the same lenght\n",
    "        \"\"\"\n",
    "        x = self.phi(s, a)\n",
    "        soft_mu = self.mu()\n",
    "\n",
    "        # We use bradcasting in here so the same parameters are used for every element of the batch\n",
    "        x = torch.matmul(x, soft_mu) # Mat multiplication of (batch_size, 1, d) @ (d, states) --> (batch_size, 1, states) # Distribution over states\n",
    "\n",
    "        return x.view(-1, self.states)\n",
    "\n",
    "    def phi_a_matrix(self, a):\n",
    "        \"\"\"Calculates the transition kernes induces by phi when one action a is fixed.\n",
    "        # Parameters:\n",
    "        a: Action id between 0 and self.actions - 1\n",
    "         \"\"\"\n",
    "        actions_list = a.repeat(self.states)\n",
    "        state_list = torch.arange(0, (self.states), dtype=int)\n",
    "\n",
    "        with torch.no_grad():\n",
    "            phi_a_batch = self.phi(state_list, actions_list).view(self.states, self.d) # This should be of shape (states, d)\n",
    "\n",
    "            return torch.matmul(phi_a_batch, self.mu()) # Should be size (states, states)\n",
    "\n",
    "\n",
    "net = Net(MDP.S, MDP.A, MDP.d)"
   ]
  },
  {
   "cell_type": "code",
   "execution_count": 6,
   "metadata": {},
   "outputs": [
    {
     "data": {
      "text/plain": [
       "<bound method Module.parameters of Net(\n",
       "  (l1): Linear(in_features=110, out_features=120, bias=True)\n",
       "  (l2): Linear(in_features=120, out_features=20, bias=True)\n",
       "  (bn1): BatchNorm1d(1, eps=1e-05, momentum=0.1, affine=True, track_running_stats=True)\n",
       "  (embedding): Linear(in_features=20, out_features=3, bias=True)\n",
       ")>"
      ]
     },
     "execution_count": 6,
     "metadata": {},
     "output_type": "execute_result"
    }
   ],
   "source": [
    "net.parameters"
   ]
  },
  {
   "cell_type": "code",
   "execution_count": 7,
   "metadata": {},
   "outputs": [],
   "source": [
    "# net.phi_a_matrix(torch.tensor(1)).size()"
   ]
  },
  {
   "cell_type": "code",
   "execution_count": 8,
   "metadata": {},
   "outputs": [],
   "source": [
    "# torch.isclose(torch.ones((net.states)), torch.sum(net.phi_a_matrix(torch.tensor(1)), dim=-1), 0.001)"
   ]
  },
  {
   "cell_type": "code",
   "execution_count": 9,
   "metadata": {},
   "outputs": [
    {
     "name": "stdout",
     "output_type": "stream",
     "text": [
      "0.7\n"
     ]
    }
   ],
   "source": [
    "from pickle import load\n",
    "\n",
    "train_path = load(open(os.path.join(\"data\", \"mdps\", \"small\" ,\"small_mdp_path_train.bin\"), 'rb'))\n",
    "test_path = load(open(os.path.join(\"data\", \"mdps\", \"small\" ,\"small_mdp_path_test.bin\"), 'rb'))\n",
    "\n",
    "print(len(train_path)/ (len(train_path) + len(test_path)))\n"
   ]
  },
  {
   "cell_type": "code",
   "execution_count": 10,
   "metadata": {},
   "outputs": [],
   "source": [
    "from torch.utils.data import Dataset, DataLoader\n",
    "\n",
    "class ListDataset(Dataset):\n",
    "    def __init__(self, l, batch_size=4) -> None:\n",
    "        super().__init__()\n",
    "        self.l = l\n",
    "        self.batch_size = batch_size\n",
    "\n",
    "    def __len__(self):\n",
    "        return len(self.l)\n",
    "\n",
    "    def __getitem__(self, idx):\n",
    "        return (self.l[idx][:2]), self.l[idx][2]\n",
    "\n",
    "    def __iter__(self):\n",
    "        l0, l1, l2 = [], [], []\n",
    "        for i in self.l:\n",
    "            l0.append(i[0]); l1.append(i[1]); l2.append(i[2])\n",
    "            if len(l0) == self.batch_size:\n",
    "                yield torch.tensor(l0), torch.tensor(l1), torch.tensor(l2)\n",
    "                l0, l1, l2 = [], [], []\n",
    "        \n",
    "\n",
    "batch_size = 64\n",
    "train_dataset = ListDataset(train_path, batch_size=batch_size)"
   ]
  },
  {
   "cell_type": "code",
   "execution_count": 11,
   "metadata": {},
   "outputs": [],
   "source": [
    "# bat = next(iter(train_dataset))"
   ]
  },
  {
   "cell_type": "code",
   "execution_count": 12,
   "metadata": {},
   "outputs": [],
   "source": [
    "# bat"
   ]
  },
  {
   "cell_type": "code",
   "execution_count": 13,
   "metadata": {},
   "outputs": [],
   "source": [
    "# forw = net.forward(bat[0], bat[1])\n",
    "# forw.size()"
   ]
  },
  {
   "cell_type": "code",
   "execution_count": 14,
   "metadata": {},
   "outputs": [],
   "source": [
    "import torch.optim as optim\n",
    "\n",
    "criterion = nn.NLLLoss()\n",
    "optimizer = optim.Adam(net.parameters(), lr=0.001)\n",
    "loder_len = len(train_path)"
   ]
  },
  {
   "cell_type": "code",
   "execution_count": 15,
   "metadata": {},
   "outputs": [],
   "source": [
    "net.to(device)"
   ]
  },
  {
   "cell_type": "markdown",
   "metadata": {},
   "source": [
    "Training Loop"
   ]
  },
  {
   "cell_type": "code",
   "execution_count": 16,
   "metadata": {},
   "outputs": [
    {
     "name": "stderr",
     "output_type": "stream",
     "text": [
      "100%|██████████| 10/10 [00:00<00:00, 10015.05it/s]\n",
      "Epoch 0.  : 100%|██████████| 4533/4533 [00:34<00:00, 131.99it/s, loss=4.271]\n",
      "Epoch 1.  : 100%|██████████| 4533/4533 [00:42<00:00, 107.23it/s, loss=4.213]\n",
      "Epoch 2.  : 100%|██████████| 4533/4533 [01:11<00:00, 63.42it/s, loss=4.189] "
     ]
    },
    {
     "name": "stdout",
     "output_type": "stream",
     "text": [
      "Finished Training\n",
      "CPU times: total: 6min 56s\n",
      "Wall time: 2min 28s\n"
     ]
    },
    {
     "name": "stderr",
     "output_type": "stream",
     "text": [
      "\n"
     ]
    }
   ],
   "source": [
    "%%time\n",
    "from tqdm import tqdm\n",
    "\n",
    "losses = []\n",
    "avg_losses = []\n",
    "batch_losses = []\n",
    "frob_diff = []\n",
    "t = torch.from_numpy(MDP.get_transitions())\n",
    "for epoch in range(3):  # loop over the dataset multiple times\n",
    "\n",
    "    running_loss = 0.0\n",
    "    avg_loss = 0.0\n",
    "    with tqdm(enumerate(train_dataset, 0), total=(loder_len // batch_size)) as tepoch:\n",
    "        for i, data in tepoch:\n",
    "            tepoch.set_description(f\"Epoch {epoch}.  \")\n",
    "\n",
    "            # get the inputs; data is a list of [inputs, labels]\n",
    "            input_states, input_actions, labels = data[0].to(device), data[1].to(device), data[2].to(device)\n",
    "\n",
    "            # zero the parameter gradients\n",
    "            optimizer.zero_grad()\n",
    "\n",
    "            # forward + backward + optimize\n",
    "            outputs = torch.log(net(input_states, input_actions))\n",
    "            loss = criterion(outputs, labels)\n",
    "            loss.backward()\n",
    "            optimizer.step()\n",
    "\n",
    "            # print statistics\n",
    "            losses.append(loss.item())\n",
    "            running_loss += loss.item()\n",
    "\n",
    "            if i % 10 == 9:    # print every 10 mini-batches\n",
    "                tepoch.set_postfix(loss=f'{running_loss / 10:.3f}')\n",
    "                batch_losses.append(running_loss / 10)\n",
    "                running_loss = 0.0\n",
    "\n",
    "            if i % 50 == 49:\n",
    "                with torch.no_grad():\n",
    "                    m0 = net.phi_a_matrix(torch.tensor(0)).detach().unsqueeze(0).to(\"cpu\")\n",
    "                    for i in range(1, MDP.A):\n",
    "                        ma = net.phi_a_matrix(torch.tensor(0)).detach().unsqueeze(0).to(\"cpu\")\n",
    "                        m0 = torch.cat((m0, ma), dim=0)\n",
    "                        \n",
    "                    frob = torch.norm((m0-t))\n",
    "                    frob_diff.append(frob)\n",
    "                    \n",
    "\n",
    "                    \n",
    "        \n",
    "        avg_losses.append(running_loss / (loder_len // batch_size))\n",
    "\n",
    "\n",
    "\n",
    "print('Finished Training')"
   ]
  },
  {
   "cell_type": "code",
   "execution_count": 17,
   "metadata": {},
   "outputs": [
    {
     "data": {
      "text/plain": [
       "Text(0, 0.5, 'NLLLoss')"
      ]
     },
     "execution_count": 17,
     "metadata": {},
     "output_type": "execute_result"
    },
    {
     "data": {
      "image/png": "[encoded data removed]",
      "text/plain": [
       "<Figure size 640x480 with 1 Axes>"
      ]
     },
     "metadata": {},
     "output_type": "display_data"
    }
   ],
   "source": [
    "import seaborn as sns\n",
    "import matplotlib.pyplot as plt\n",
    "sns.set_theme()\n",
    "plt.plot(batch_losses)\n",
    "plt.title(\"Negative Log-Likelihood loss per batch iteration\")\n",
    "plt.xlabel(\"Batch iterations\")\n",
    "plt.ylabel(\"NLLLoss\")"
   ]
  },
  {
   "cell_type": "markdown",
   "metadata": {},
   "source": [
    "Next will be the behaviour of our net in term of difference of frobenius norm. This can help us do a relatively easy comparative between this approach and others like sGS_ADMM_MDPs"
   ]
  },
  {
   "cell_type": "code",
   "execution_count": 18,
   "metadata": {},
   "outputs": [
    {
     "data": {
      "text/plain": [
       "Text(0, 0.5, '$\\\\sum_{a \\\\in \\\\mathcal{A}}||X_a - M_a||_{fb}$')"
      ]
     },
     "execution_count": 18,
     "metadata": {},
     "output_type": "execute_result"
    },
    {
     "data": {
      "image/png": "[encoded data removed]",
      "text/plain": [
       "<Figure size 640x480 with 1 Axes>"
      ]
     },
     "metadata": {},
     "output_type": "display_data"
    }
   ],
   "source": [
    "frob_diff_batch = [i for i in frob_diff for j in range(5)]\n",
    "plt.plot(frob_diff_batch)\n",
    "plt.title(\"Difference of Frobenius norm per batch iteration\")\n",
    "plt.xlabel(\"Batch iterations\")\n",
    "plt.ylabel(\"$\\sum_{a \\in \\mathcal{A}}||X_a - M_a||_{fb}$\")"
   ]
  },
  {
   "cell_type": "code",
   "execution_count": null,
   "metadata": {},
   "outputs": [],
   "source": []
  },
  {
   "cell_type": "code",
   "execution_count": 19,
   "metadata": {},
   "outputs": [
    {
     "data": {
      "text/plain": [
       "torch.Size([10, 100, 100])"
      ]
     },
     "execution_count": 19,
     "metadata": {},
     "output_type": "execute_result"
    }
   ],
   "source": [
    "m0 = net.phi_a_matrix(torch.tensor(0)).detach().unsqueeze(0).to(\"cpu\")\n",
    "for i in range(1, MDP.A):\n",
    "    ma = net.phi_a_matrix(torch.tensor(0)).detach().unsqueeze(0).to(\"cpu\")\n",
    "    m0 = torch.cat((m0, ma), dim=0)\n",
    "m0.size()"
   ]
  },
  {
   "cell_type": "code",
   "execution_count": 20,
   "metadata": {},
   "outputs": [
    {
     "name": "stderr",
     "output_type": "stream",
     "text": [
      "100%|██████████| 10/10 [00:00<00:00, 4995.60it/s]\n"
     ]
    },
    {
     "data": {
      "text/plain": [
       "torch.Size([10, 100, 100])"
      ]
     },
     "execution_count": 20,
     "metadata": {},
     "output_type": "execute_result"
    }
   ],
   "source": [
    "m0_real = torch.from_numpy(MDP.get_transitions())\n",
    "m0_real.size()"
   ]
  },
  {
   "cell_type": "code",
   "execution_count": 21,
   "metadata": {},
   "outputs": [
    {
     "data": {
      "text/plain": [
       "tensor(3.4184, dtype=torch.float64)"
      ]
     },
     "execution_count": 21,
     "metadata": {},
     "output_type": "execute_result"
    }
   ],
   "source": [
    "torch.norm((m0-m0_real))"
   ]
  },
  {
   "cell_type": "code",
   "execution_count": 40,
   "metadata": {},
   "outputs": [
    {
     "name": "stderr",
     "output_type": "stream",
     "text": [
      "100%|██████████| 10/10 [00:00<00:00, 9984.06it/s]\n"
     ]
    },
    {
     "data": {
      "text/plain": [
       "tensor(4.8705, dtype=torch.float64)"
      ]
     },
     "execution_count": 40,
     "metadata": {},
     "output_type": "execute_result"
    }
   ],
   "source": [
    "other =  SimplexEnvironment(states=100, actions=10, bell_rank=3)\n",
    "t_other = torch.from_numpy(other.get_transitions())\n",
    "torch.norm((t-t_other))"
   ]
  },
  {
   "cell_type": "markdown",
   "metadata": {},
   "source": [
    "torch.norm((t-t_other))"
   ]
  }
 ],
 "metadata": {
  "kernelspec": {
   "display_name": "Python 3.9.13 ('dl_arch_env')",
   "language": "python",
   "name": "python3"
  },
  "language_info": {
   "codemirror_mode": {
    "name": "ipython",
    "version": 3
   },
   "file_extension": ".py",
   "mimetype": "text/x-python",
   "name": "python",
   "nbconvert_exporter": "python",
   "pygments_lexer": "ipython3",
   "version": "3.9.13"
  },
  "orig_nbformat": 4,
  "vscode": {
   "interpreter": {
    "hash": "4ae4df1c5943cf4748546a76d45f227f53fb8acff87095bbb53afeb5cd17aec1"
   }
  }
 },
 "nbformat": 4,
 "nbformat_minor": 2
}
